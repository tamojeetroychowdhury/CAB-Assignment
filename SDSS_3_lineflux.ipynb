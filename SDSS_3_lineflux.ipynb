{
  "nbformat": 4,
  "nbformat_minor": 0,
  "metadata": {
    "colab": {
      "provenance": [],
      "authorship_tag": "ABX9TyPcyfcoUkweTZUd5qYvP/54",
      "include_colab_link": true
    },
    "kernelspec": {
      "name": "python3",
      "display_name": "Python 3"
    },
    "language_info": {
      "name": "python"
    }
  },
  "cells": [
    {
      "cell_type": "markdown",
      "metadata": {
        "id": "view-in-github",
        "colab_type": "text"
      },
      "source": [
        "<a href=\"https://colab.research.google.com/github/tamojeetroychowdhury/CAB-Assignment/blob/main/SDSS_3_lineflux.ipynb\" target=\"_parent\"><img src=\"https://colab.research.google.com/assets/colab-badge.svg\" alt=\"Open In Colab\"/></a>"
      ]
    },
    {
      "cell_type": "code",
      "execution_count": 1,
      "metadata": {
        "colab": {
          "base_uri": "https://localhost:8080/"
        },
        "id": "VwbNTDiJVSDa",
        "outputId": "299910b3-fe44-49ba-a6b1-72153a016add"
      },
      "outputs": [
        {
          "output_type": "stream",
          "name": "stdout",
          "text": [
            "Looking in indexes: https://pypi.org/simple, https://us-python.pkg.dev/colab-wheels/public/simple/\n",
            "Collecting specutils\n",
            "  Downloading specutils-1.9.1-py3-none-any.whl (194 kB)\n",
            "\u001b[K     |████████████████████████████████| 194 kB 6.3 MB/s \n",
            "\u001b[?25hRequirement already satisfied: scipy in /usr/local/lib/python3.8/dist-packages (from specutils) (1.7.3)\n",
            "Collecting gwcs>=0.17.0\n",
            "  Downloading gwcs-0.18.3-py3-none-any.whl (108 kB)\n",
            "\u001b[K     |████████████████████████████████| 108 kB 46.5 MB/s \n",
            "\u001b[?25hCollecting asdf!=2.12.0,>=2.10\n",
            "  Downloading asdf-2.14.3-py3-none-any.whl (414 kB)\n",
            "\u001b[K     |████████████████████████████████| 414 kB 35.3 MB/s \n",
            "\u001b[?25hCollecting astropy>=5.1\n",
            "  Downloading astropy-5.2-cp38-cp38-manylinux_2_12_x86_64.manylinux2010_x86_64.whl (11.4 MB)\n",
            "\u001b[K     |████████████████████████████████| 11.4 MB 4.7 MB/s \n",
            "\u001b[?25hCollecting ndcube>=2.0\n",
            "  Downloading ndcube-2.0.3-py3-none-any.whl (109 kB)\n",
            "\u001b[K     |████████████████████████████████| 109 kB 52.6 MB/s \n",
            "\u001b[?25hRequirement already satisfied: packaging>=16.0 in /usr/local/lib/python3.8/dist-packages (from asdf!=2.12.0,>=2.10->specutils) (21.3)\n",
            "Requirement already satisfied: jsonschema>=4.0.1 in /usr/local/lib/python3.8/dist-packages (from asdf!=2.12.0,>=2.10->specutils) (4.3.3)\n",
            "Collecting semantic-version>=2.8\n",
            "  Downloading semantic_version-2.10.0-py2.py3-none-any.whl (15 kB)\n",
            "Requirement already satisfied: importlib-resources>=3 in /usr/local/lib/python3.8/dist-packages (from asdf!=2.12.0,>=2.10->specutils) (5.10.1)\n",
            "Collecting asdf-unit-schemas>=0.1.0\n",
            "  Downloading asdf_unit_schemas-0.1.0-py3-none-any.whl (11 kB)\n",
            "Collecting asdf-transform-schemas>=0.3.0\n",
            "  Downloading asdf_transform_schemas-0.3.0-py3-none-any.whl (195 kB)\n",
            "\u001b[K     |████████████████████████████████| 195 kB 57.1 MB/s \n",
            "\u001b[?25hCollecting asdf-standard>=1.0.1\n",
            "  Downloading asdf_standard-1.0.3-py3-none-any.whl (71 kB)\n",
            "\u001b[K     |████████████████████████████████| 71 kB 92 kB/s \n",
            "\u001b[?25hCollecting jmespath>=0.6.2\n",
            "  Downloading jmespath-1.0.1-py3-none-any.whl (20 kB)\n",
            "Requirement already satisfied: importlib-metadata>=4.11.4 in /usr/local/lib/python3.8/dist-packages (from asdf!=2.12.0,>=2.10->specutils) (5.1.0)\n",
            "Requirement already satisfied: numpy>=1.18 in /usr/local/lib/python3.8/dist-packages (from asdf!=2.12.0,>=2.10->specutils) (1.21.6)\n",
            "Requirement already satisfied: pyyaml>=3.10 in /usr/local/lib/python3.8/dist-packages (from asdf!=2.12.0,>=2.10->specutils) (6.0)\n",
            "Requirement already satisfied: pyerfa>=2.0 in /usr/local/lib/python3.8/dist-packages (from astropy>=5.1->specutils) (2.0.0.1)\n",
            "Collecting asdf-astropy>=0.2.0\n",
            "  Downloading asdf_astropy-0.3.0-py3-none-any.whl (69 kB)\n",
            "\u001b[K     |████████████████████████████████| 69 kB 6.4 MB/s \n",
            "\u001b[?25hCollecting asdf-wcs-schemas\n",
            "  Downloading asdf_wcs_schemas-0.1.1.tar.gz (22 kB)\n",
            "  Installing build dependencies ... \u001b[?25l\u001b[?25hdone\n",
            "  Getting requirements to build wheel ... \u001b[?25l\u001b[?25hdone\n",
            "    Preparing wheel metadata ... \u001b[?25l\u001b[?25hdone\n",
            "Collecting asdf-coordinates-schemas\n",
            "  Downloading asdf_coordinates_schemas-0.1.0.tar.gz (11 kB)\n",
            "  Installing build dependencies ... \u001b[?25l\u001b[?25hdone\n",
            "  Getting requirements to build wheel ... \u001b[?25l\u001b[?25hdone\n",
            "    Preparing wheel metadata ... \u001b[?25l\u001b[?25hdone\n",
            "Requirement already satisfied: zipp>=0.5 in /usr/local/lib/python3.8/dist-packages (from importlib-metadata>=4.11.4->asdf!=2.12.0,>=2.10->specutils) (3.11.0)\n",
            "Requirement already satisfied: pyrsistent!=0.17.0,!=0.17.1,!=0.17.2,>=0.14.0 in /usr/local/lib/python3.8/dist-packages (from jsonschema>=4.0.1->asdf!=2.12.0,>=2.10->specutils) (0.19.2)\n",
            "Requirement already satisfied: attrs>=17.4.0 in /usr/local/lib/python3.8/dist-packages (from jsonschema>=4.0.1->asdf!=2.12.0,>=2.10->specutils) (22.1.0)\n",
            "Requirement already satisfied: pyparsing!=3.0.5,>=2.0.2 in /usr/local/lib/python3.8/dist-packages (from packaging>=16.0->asdf!=2.12.0,>=2.10->specutils) (3.0.9)\n",
            "Building wheels for collected packages: asdf-coordinates-schemas, asdf-wcs-schemas\n",
            "  Building wheel for asdf-coordinates-schemas (PEP 517) ... \u001b[?25l\u001b[?25hdone\n",
            "  Created wheel for asdf-coordinates-schemas: filename=asdf_coordinates_schemas-0.1.0-py3-none-any.whl size=19008 sha256=10eeced07ce59f89e0cc930317ad6fa2623092b91d6a61d4cb2fe4e16af8cc11\n",
            "  Stored in directory: /root/.cache/pip/wheels/c1/2e/00/8e32091089f663e754b0e9e9a9a623ced57a0241d27f3c38e0\n",
            "  Building wheel for asdf-wcs-schemas (PEP 517) ... \u001b[?25l\u001b[?25hdone\n",
            "  Created wheel for asdf-wcs-schemas: filename=asdf_wcs_schemas-0.1.1-py3-none-any.whl size=26605 sha256=8dc8fd351eb5d79df5057cc572320aba4bfe7ee29b32f23cd193700c75bff0e5\n",
            "  Stored in directory: /root/.cache/pip/wheels/0f/b7/dd/054028975f9016d9369d3bdd318ee6b6bf11a5e9dc2871e541\n",
            "Successfully built asdf-coordinates-schemas asdf-wcs-schemas\n",
            "Installing collected packages: asdf-standard, semantic-version, jmespath, asdf-unit-schemas, asdf-transform-schemas, asdf, astropy, asdf-coordinates-schemas, asdf-wcs-schemas, asdf-astropy, gwcs, ndcube, specutils\n",
            "  Attempting uninstall: astropy\n",
            "    Found existing installation: astropy 4.3.1\n",
            "    Uninstalling astropy-4.3.1:\n",
            "      Successfully uninstalled astropy-4.3.1\n",
            "Successfully installed asdf-2.14.3 asdf-astropy-0.3.0 asdf-coordinates-schemas-0.1.0 asdf-standard-1.0.3 asdf-transform-schemas-0.3.0 asdf-unit-schemas-0.1.0 asdf-wcs-schemas-0.1.1 astropy-5.2 gwcs-0.18.3 jmespath-1.0.1 ndcube-2.0.3 semantic-version-2.10.0 specutils-1.9.1\n",
            "Looking in indexes: https://pypi.org/simple, https://us-python.pkg.dev/colab-wheels/public/simple/\n",
            "Collecting astroquery\n",
            "  Downloading astroquery-0.4.6-py3-none-any.whl (4.5 MB)\n",
            "\u001b[K     |████████████████████████████████| 4.5 MB 7.0 MB/s \n",
            "\u001b[?25hCollecting pyvo>=1.1\n",
            "  Downloading pyvo-1.4-py3-none-any.whl (885 kB)\n",
            "\u001b[K     |████████████████████████████████| 885 kB 61.7 MB/s \n",
            "\u001b[?25hRequirement already satisfied: html5lib>=0.999 in /usr/local/lib/python3.8/dist-packages (from astroquery) (1.0.1)\n",
            "Requirement already satisfied: requests>=2.4.3 in /usr/local/lib/python3.8/dist-packages (from astroquery) (2.23.0)\n",
            "Requirement already satisfied: astropy>=4.0 in /usr/local/lib/python3.8/dist-packages (from astroquery) (5.2)\n",
            "Requirement already satisfied: beautifulsoup4>=4.3.2 in /usr/local/lib/python3.8/dist-packages (from astroquery) (4.6.3)\n",
            "Collecting keyring>=4.0\n",
            "  Downloading keyring-23.13.1-py3-none-any.whl (37 kB)\n",
            "Requirement already satisfied: numpy>=1.16 in /usr/local/lib/python3.8/dist-packages (from astroquery) (1.21.6)\n",
            "Requirement already satisfied: PyYAML>=3.13 in /usr/local/lib/python3.8/dist-packages (from astropy>=4.0->astroquery) (6.0)\n",
            "Requirement already satisfied: pyerfa>=2.0 in /usr/local/lib/python3.8/dist-packages (from astropy>=4.0->astroquery) (2.0.0.1)\n",
            "Requirement already satisfied: packaging>=19.0 in /usr/local/lib/python3.8/dist-packages (from astropy>=4.0->astroquery) (21.3)\n",
            "Requirement already satisfied: webencodings in /usr/local/lib/python3.8/dist-packages (from html5lib>=0.999->astroquery) (0.5.1)\n",
            "Requirement already satisfied: six>=1.9 in /usr/local/lib/python3.8/dist-packages (from html5lib>=0.999->astroquery) (1.15.0)\n",
            "Collecting jaraco.classes\n",
            "  Downloading jaraco.classes-3.2.3-py3-none-any.whl (6.0 kB)\n",
            "Collecting jeepney>=0.4.2\n",
            "  Downloading jeepney-0.8.0-py3-none-any.whl (48 kB)\n",
            "\u001b[K     |████████████████████████████████| 48 kB 4.9 MB/s \n",
            "\u001b[?25hRequirement already satisfied: importlib-metadata>=4.11.4 in /usr/local/lib/python3.8/dist-packages (from keyring>=4.0->astroquery) (5.1.0)\n",
            "Collecting SecretStorage>=3.2\n",
            "  Downloading SecretStorage-3.3.3-py3-none-any.whl (15 kB)\n",
            "Requirement already satisfied: importlib-resources in /usr/local/lib/python3.8/dist-packages (from keyring>=4.0->astroquery) (5.10.1)\n",
            "Requirement already satisfied: zipp>=0.5 in /usr/local/lib/python3.8/dist-packages (from importlib-metadata>=4.11.4->keyring>=4.0->astroquery) (3.11.0)\n",
            "Requirement already satisfied: pyparsing!=3.0.5,>=2.0.2 in /usr/local/lib/python3.8/dist-packages (from packaging>=19.0->astropy>=4.0->astroquery) (3.0.9)\n",
            "Requirement already satisfied: chardet<4,>=3.0.2 in /usr/local/lib/python3.8/dist-packages (from requests>=2.4.3->astroquery) (3.0.4)\n",
            "Requirement already satisfied: urllib3!=1.25.0,!=1.25.1,<1.26,>=1.21.1 in /usr/local/lib/python3.8/dist-packages (from requests>=2.4.3->astroquery) (1.24.3)\n",
            "Requirement already satisfied: certifi>=2017.4.17 in /usr/local/lib/python3.8/dist-packages (from requests>=2.4.3->astroquery) (2022.12.7)\n",
            "Requirement already satisfied: idna<3,>=2.5 in /usr/local/lib/python3.8/dist-packages (from requests>=2.4.3->astroquery) (2.10)\n",
            "Collecting cryptography>=2.0\n",
            "  Downloading cryptography-39.0.0-cp36-abi3-manylinux_2_24_x86_64.whl (4.1 MB)\n",
            "\u001b[K     |████████████████████████████████| 4.1 MB 39.0 MB/s \n",
            "\u001b[?25hRequirement already satisfied: cffi>=1.12 in /usr/local/lib/python3.8/dist-packages (from cryptography>=2.0->SecretStorage>=3.2->keyring>=4.0->astroquery) (1.15.1)\n",
            "Requirement already satisfied: pycparser in /usr/local/lib/python3.8/dist-packages (from cffi>=1.12->cryptography>=2.0->SecretStorage>=3.2->keyring>=4.0->astroquery) (2.21)\n",
            "Requirement already satisfied: more-itertools in /usr/local/lib/python3.8/dist-packages (from jaraco.classes->keyring>=4.0->astroquery) (9.0.0)\n",
            "Installing collected packages: jeepney, cryptography, SecretStorage, jaraco.classes, pyvo, keyring, astroquery\n",
            "Successfully installed SecretStorage-3.3.3 astroquery-0.4.6 cryptography-39.0.0 jaraco.classes-3.2.3 jeepney-0.8.0 keyring-23.13.1 pyvo-1.4\n"
          ]
        }
      ],
      "source": [
        "!pip install astropy>=5.1\n",
        "!pip install specutils\n",
        "!pip install astroquery"
      ]
    },
    {
      "cell_type": "code",
      "source": [
        "from astroquery.sdss import SDSS\n",
        "from specutils import Spectrum1D\n",
        "from astropy import coordinates as coords\n",
        "import matplotlib.pyplot as plt\n",
        "import numpy as np\n",
        "from astropy import units as u\n",
        "\n",
        "import warnings\n",
        "warnings.simplefilter('ignore')\n",
        "from scipy.signal import find_peaks\n",
        "from specutils.fitting import fit_generic_continuum\n",
        "\n",
        "from specutils.manipulation import gaussian_smooth\n",
        "from specutils import SpectralRegion\n",
        "from specutils.analysis import equivalent_width, line_flux"
      ],
      "metadata": {
        "id": "JjElDDLOVs37"
      },
      "execution_count": 24,
      "outputs": []
    },
    {
      "cell_type": "code",
      "source": [
        "pos = coords.SkyCoord('15h18m33.75s 02d05m57.7s', frame='gcrs')\n",
        "xid_spec = SDSS.query_region(pos, radius = '11.5m', spectro=True)\n",
        "print(len(xid_spec))\n",
        "\n",
        "d = xid_spec\n",
        "mask = (d['ra']-229.64)**2 + (d['dec']-2.085)**2 <= (11/60)**2\n",
        "x = d[mask]\n",
        "s = SDSS.get_spectra(matches = x)"
      ],
      "metadata": {
        "colab": {
          "base_uri": "https://localhost:8080/"
        },
        "id": "WzdrXAWtWPiK",
        "outputId": "9788729d-ebf8-488a-f784-0b2d02064d97"
      },
      "execution_count": 2,
      "outputs": [
        {
          "output_type": "stream",
          "name": "stdout",
          "text": [
            "63\n"
          ]
        }
      ]
    },
    {
      "cell_type": "code",
      "source": [
        "# 5581, 7202, 7148 of calcium+1, also 4227 present where 5581 isn't\n",
        "# 7231, 7236 of carbon, not present\n",
        "# 7180 of H2O, not present\n",
        "# 8407 of TiO - present in many!\n",
        "# 3883 of cyanide - present in many! 4215 of cyanide - present in several as very short peak\n",
        "# 7250 of Si+ - found in two\n",
        "# 7601 of Ca++, found as broad peak in some\n",
        "# 7657 of Mg+, long peak in image 25, short peak in 17, almost-peak in third\n",
        "# 8184, 8194 of N+, Na+ small peaks in several, mostly first line\n",
        "# 8213, 8221, 8234 of Mg,O,Mg have smaller peaks in few\n",
        "# 6300 (can be O or Fe but seem Fe looking at Sneden et al) line present in many! 6158 Fe+ line also present in several, mainly in images towards end\n",
        "# 6154, 6161 Na lines in several, two as prominent peaks in end\n",
        "# 6300 zoom-in resolution : Fe line 6301.5 present in many, several have zig-zag or two-point peaks which means both O and Fe peaks present."
      ],
      "metadata": {
        "id": "DmfPCBttWjlv"
      },
      "execution_count": 3,
      "outputs": []
    },
    {
      "cell_type": "code",
      "source": [
        "cn = []\n",
        "o = []\n",
        "na = []\n",
        "fe = []\n",
        "\n",
        "for i in range(len(s)):\n",
        "  specdata = s[i][1].data\n",
        "  lamb = 10**specdata['loglam'] * u.AA \n",
        "  flux = specdata['flux'] * 10**-17 * u.Unit('erg cm-2 s-1 AA-1') \n",
        "  spec = Spectrum1D(spectral_axis=lamb, flux=flux)\n",
        "\n",
        "  g1_fit = fit_generic_continuum(spec)\n",
        "  y_continuum_fitted = g1_fit(lamb)\n",
        "\n",
        "  spec -= y_continuum_fitted\n",
        "\n",
        "  #waves = np.array([6300.7, 3839, 6161])\n",
        "  #lower = (waves - 1) * u.AA\n",
        "  #upper = (waves + 1) * u.AA\n",
        "\n",
        "  #sp = SpectralRegion([[lower[i], upper[i]] for i in range(3)])\n",
        "\n",
        "  cn.append(line_flux(spectrum = spec, regions = SpectralRegion(3837*u.AA, 3841*u.AA)))\n",
        "  o.append(line_flux(spectrum = spec, regions = SpectralRegion(6298*u.AA, 6302*u.AA)))\n",
        "  #na.append(line_flux(spectrum = spec, regions = SpectralRegion(6159*u.AA, 6163*u.AA)))"
      ],
      "metadata": {
        "id": "sjjGHGjcWmHo"
      },
      "execution_count": 65,
      "outputs": []
    },
    {
      "cell_type": "code",
      "source": [
        "plt.figure(figsize = (10,10))\n",
        "cn_nums = np.array([np.abs(i.value) for i in cn])\n",
        "o_nums = np.array([np.abs(i.value) for i in o])\n",
        "na_nums = np.array([np.abs(i.value) for i in na])\n",
        "fe_nums = np.array([np.abs(i.value) for i in fe])\n",
        "ofe = np.log(o_nums/fe_nums)\n",
        "nafe = np.log(na_nums/fe_nums)\n",
        "plt.scatter(ofe, cn_nums, s = 10)\n",
        "plt.ylim(-0.1e-15,1e-15)\n",
        "plt.show()"
      ],
      "metadata": {
        "colab": {
          "base_uri": "https://localhost:8080/",
          "height": 602
        },
        "id": "XK02eCBxaNIm",
        "outputId": "48ce3be4-cea6-4127-9c70-d1463a36e31e"
      },
      "execution_count": 107,
      "outputs": [
        {
          "output_type": "display_data",
          "data": {
            "text/plain": [
              "<Figure size 720x720 with 1 Axes>"
            ],
            "image/png": "[encoded data removed]"
          },
          "metadata": {
            "needs_background": "light"
          }
        }
      ]
    },
    {
      "cell_type": "code",
      "source": [
        "np.corrcoef([nafe], [cn_nums])"
      ],
      "metadata": {
        "colab": {
          "base_uri": "https://localhost:8080/"
        },
        "id": "YZ2Js0z-aN67",
        "outputId": "51591037-d333-4e3a-8aa5-78981de4c3a9"
      },
      "execution_count": 102,
      "outputs": [
        {
          "output_type": "execute_result",
          "data": {
            "text/plain": [
              "array([[ 1.        , -0.23410229],\n",
              "       [-0.23410229,  1.        ]])"
            ]
          },
          "metadata": {},
          "execution_count": 102
        }
      ]
    },
    {
      "cell_type": "code",
      "source": [
        "np.corrcoef([[1,2,3]], [[4,3,2]])"
      ],
      "metadata": {
        "colab": {
          "base_uri": "https://localhost:8080/"
        },
        "id": "IlYoGbuQ1wFX",
        "outputId": "69ad5f3b-e525-427b-bc0d-c17b7c5a1b92"
      },
      "execution_count": 104,
      "outputs": [
        {
          "output_type": "execute_result",
          "data": {
            "text/plain": [
              "array([[ 1., -1.],\n",
              "       [-1.,  1.]])"
            ]
          },
          "metadata": {},
          "execution_count": 104
        }
      ]
    },
    {
      "cell_type": "code",
      "source": [
        "na = []\n",
        "\n",
        "for i in range(len(s)):\n",
        "  specdata = s[i][1].data\n",
        "  lamb = 10**specdata['loglam'] * u.AA \n",
        "  flux = specdata['flux'] * 10**-17 * u.Unit('erg cm-2 s-1 AA-1') \n",
        "  spec = Spectrum1D(spectral_axis=lamb, flux=flux)\n",
        "\n",
        "  g1_fit = fit_generic_continuum(spec)\n",
        "  y_continuum_fitted = g1_fit(lamb)\n",
        "\n",
        "  spec -= y_continuum_fitted\n",
        "\n",
        "  #waves = np.array([6300.7, 3839, 6161])\n",
        "  #lower = (waves - 1) * u.AA\n",
        "  #upper = (waves + 1) * u.AA\n",
        "\n",
        "  #sp = SpectralRegion([[lower[i], upper[i]] for i in range(3)])\n",
        "\n",
        "  na.append(line_flux(spectrum = spec, regions = SpectralRegion(5896*u.AA, 5900*u.AA)))"
      ],
      "metadata": {
        "id": "I7S1GUELgKKL"
      },
      "execution_count": 71,
      "outputs": []
    },
    {
      "cell_type": "code",
      "source": [
        "fe = []\n",
        "\n",
        "for i in range(len(s)):\n",
        "  specdata = s[i][1].data\n",
        "  lamb = 10**specdata['loglam'] * u.AA \n",
        "  flux = specdata['flux'] * 10**-17 * u.Unit('erg cm-2 s-1 AA-1') \n",
        "  spec = Spectrum1D(spectral_axis=lamb, flux=flux)\n",
        "\n",
        "  g1_fit = fit_generic_continuum(spec)\n",
        "  y_continuum_fitted = g1_fit(lamb)\n",
        "\n",
        "  spec -= y_continuum_fitted\n",
        "\n",
        "  #waves = np.array([6300.7, 3839, 6161])\n",
        "  #lower = (waves - 1) * u.AA\n",
        "  #upper = (waves + 1) * u.AA\n",
        "\n",
        "  #sp = SpectralRegion([[lower[i], upper[i]] for i in range(3)])\n",
        "\n",
        "  fe.append(line_flux(spectrum = spec, regions = SpectralRegion(5268*u.AA, 5272*u.AA)))"
      ],
      "metadata": {
        "id": "lp1xR9TygKG7"
      },
      "execution_count": 74,
      "outputs": []
    },
    {
      "cell_type": "code",
      "source": [
        "cn_ew"
      ],
      "metadata": {
        "colab": {
          "base_uri": "https://localhost:8080/"
        },
        "id": "_0bweqizgKEi",
        "outputId": "b120ba6e-b9d5-4a0d-a079-32ce7b10b97b"
      },
      "execution_count": 95,
      "outputs": [
        {
          "output_type": "execute_result",
          "data": {
            "text/plain": [
              "[<Quantity 4.41711426 Angstrom>,\n",
              " <Quantity 4.41711426 Angstrom>,\n",
              " <Quantity 4.41711426 Angstrom>,\n",
              " <Quantity 4.41711426 Angstrom>,\n",
              " <Quantity 4.41711426 Angstrom>,\n",
              " <Quantity 4.41711426 Angstrom>,\n",
              " <Quantity 4.41711426 Angstrom>,\n",
              " <Quantity 4.41711426 Angstrom>,\n",
              " <Quantity 4.41711426 Angstrom>,\n",
              " <Quantity 4.41711426 Angstrom>,\n",
              " <Quantity 4.41711426 Angstrom>,\n",
              " <Quantity 4.41711426 Angstrom>,\n",
              " <Quantity 4.41711426 Angstrom>,\n",
              " <Quantity 4.41711426 Angstrom>,\n",
              " <Quantity 4.41711426 Angstrom>,\n",
              " <Quantity 4.41711426 Angstrom>,\n",
              " <Quantity 4.41711426 Angstrom>,\n",
              " <Quantity 4.41711426 Angstrom>,\n",
              " <Quantity 4.41711426 Angstrom>,\n",
              " <Quantity 4.41711426 Angstrom>,\n",
              " <Quantity 4.41711426 Angstrom>,\n",
              " <Quantity 4.41711426 Angstrom>,\n",
              " <Quantity 4.41711426 Angstrom>,\n",
              " <Quantity 4.41711426 Angstrom>,\n",
              " <Quantity 4.41711426 Angstrom>,\n",
              " <Quantity 4.41711426 Angstrom>,\n",
              " <Quantity 4.41711426 Angstrom>,\n",
              " <Quantity 4.41711426 Angstrom>,\n",
              " <Quantity 4.41711426 Angstrom>,\n",
              " <Quantity 4.41711426 Angstrom>,\n",
              " <Quantity 4.41711426 Angstrom>,\n",
              " <Quantity 4.41711426 Angstrom>,\n",
              " <Quantity 4.41711426 Angstrom>,\n",
              " <Quantity 4.41711426 Angstrom>,\n",
              " <Quantity 4.41711426 Angstrom>,\n",
              " <Quantity 4.41711426 Angstrom>,\n",
              " <Quantity 4.41711426 Angstrom>,\n",
              " <Quantity 4.41711426 Angstrom>,\n",
              " <Quantity 4.41711426 Angstrom>]"
            ]
          },
          "metadata": {},
          "execution_count": 95
        }
      ]
    },
    {
      "cell_type": "code",
      "source": [],
      "metadata": {
        "id": "b68VQKVmgKCK"
      },
      "execution_count": null,
      "outputs": []
    },
    {
      "cell_type": "code",
      "source": [],
      "metadata": {
        "id": "LVB3HOiHgJ_7"
      },
      "execution_count": null,
      "outputs": []
    },
    {
      "cell_type": "code",
      "source": [],
      "metadata": {
        "id": "iN69fWEEgJ9o"
      },
      "execution_count": null,
      "outputs": []
    },
    {
      "cell_type": "code",
      "source": [
        "from astropy.nddata import StdDevUncertainty\n",
        "from astropy.modeling import models\n",
        "\n",
        "np.random.seed(42)\n",
        "spectral_axis = np.linspace(11., 1., 200) * u.GHz\n",
        "spectral_model = models.Gaussian1D(amplitude=5*(2*np.pi*0.8**2)**-0.5*u.Jy, mean=5*u.GHz, stddev=0.8*u.GHz)\n",
        "flux = spectral_model(spectral_axis)\n",
        "flux += np.random.normal(0., 0.05, spectral_axis.shape) * u.Jy\n",
        "uncertainty = StdDevUncertainty(0.2*np.ones(flux.shape)*u.Jy)\n",
        "noisy_gaussian = Spectrum1D(spectral_axis=spectral_axis, flux=flux)#, uncertainty=uncertainty)\n",
        "import matplotlib.pyplot as plt \n",
        "plt.step(noisy_gaussian.spectral_axis, noisy_gaussian.flux) "
      ],
      "metadata": {
        "colab": {
          "base_uri": "https://localhost:8080/",
          "height": 282
        },
        "id": "cyTCF2O5gJ7R",
        "outputId": "907f6e81-74ed-4c8c-9411-80056af05779"
      },
      "execution_count": 31,
      "outputs": [
        {
          "output_type": "execute_result",
          "data": {
            "text/plain": [
              "[<matplotlib.lines.Line2D at 0x7fe78a6a8be0>]"
            ]
          },
          "metadata": {},
          "execution_count": 31
        },
        {
          "output_type": "display_data",
          "data": {
            "text/plain": [
              "<Figure size 432x288 with 1 Axes>"
            ],
            "image/png": "[encoded data removed]"
          },
          "metadata": {
            "needs_background": "light"
          }
        }
      ]
    },
    {
      "cell_type": "code",
      "source": [
        "line_flux(spec, SpectralRegion(6300*u.AA, 6302*u.AA))  "
      ],
      "metadata": {
        "colab": {
          "base_uri": "https://localhost:8080/",
          "height": 311
        },
        "id": "ZUCNubc0gJ5H",
        "outputId": "6d51e238-2da9-4f64-e886-7f2303914c98"
      },
      "execution_count": 56,
      "outputs": [
        {
          "output_type": "error",
          "ename": "IndexError",
          "evalue": "ignored",
          "traceback": [
            "\u001b[0;31m---------------------------------------------------------------------------\u001b[0m",
            "\u001b[0;31mIndexError\u001b[0m                                Traceback (most recent call last)",
            "\u001b[0;32m<ipython-input-56-2baf495de8ae>\u001b[0m in \u001b[0;36m<module>\u001b[0;34m\u001b[0m\n\u001b[0;32m----> 1\u001b[0;31m \u001b[0mline_flux\u001b[0m\u001b[0;34m(\u001b[0m\u001b[0mspec\u001b[0m\u001b[0;34m,\u001b[0m \u001b[0mSpectralRegion\u001b[0m\u001b[0;34m(\u001b[0m\u001b[0;36m6300\u001b[0m\u001b[0;34m*\u001b[0m\u001b[0mu\u001b[0m\u001b[0;34m.\u001b[0m\u001b[0mAA\u001b[0m\u001b[0;34m,\u001b[0m \u001b[0;36m6302\u001b[0m\u001b[0;34m*\u001b[0m\u001b[0mu\u001b[0m\u001b[0;34m.\u001b[0m\u001b[0mAA\u001b[0m\u001b[0;34m)\u001b[0m\u001b[0;34m)\u001b[0m\u001b[0;34m\u001b[0m\u001b[0;34m\u001b[0m\u001b[0m\n\u001b[0m",
            "\u001b[0;32m/usr/local/lib/python3.8/dist-packages/specutils/analysis/flux.py\u001b[0m in \u001b[0;36mline_flux\u001b[0;34m(spectrum, regions, mask_interpolation)\u001b[0m\n\u001b[1;32m     56\u001b[0m     \u001b[0mcontinuum\u001b[0m\u001b[0;34m-\u001b[0m\u001b[0msubtracted\u001b[0m \u001b[0mto\u001b[0m \u001b[0mcompute\u001b[0m \u001b[0mactual\u001b[0m \u001b[0mline\u001b[0m \u001b[0mfluxes\u001b[0m\u001b[0;34m.\u001b[0m\u001b[0;34m\u001b[0m\u001b[0;34m\u001b[0m\u001b[0m\n\u001b[1;32m     57\u001b[0m     \"\"\"\n\u001b[0;32m---> 58\u001b[0;31m     return computation_wrapper(_compute_line_flux, spectrum, regions,\n\u001b[0m\u001b[1;32m     59\u001b[0m                                mask_interpolation=mask_interpolation)\n\u001b[1;32m     60\u001b[0m \u001b[0;34m\u001b[0m\u001b[0m\n",
            "\u001b[0;32m/usr/local/lib/python3.8/dist-packages/specutils/analysis/utils.py\u001b[0m in \u001b[0;36mcomputation_wrapper\u001b[0;34m(func, spectrum, region, **kwargs)\u001b[0m\n\u001b[1;32m     21\u001b[0m     \u001b[0;31m# Single region\u001b[0m\u001b[0;34m\u001b[0m\u001b[0;34m\u001b[0m\u001b[0;34m\u001b[0m\u001b[0m\n\u001b[1;32m     22\u001b[0m     \u001b[0;32melif\u001b[0m \u001b[0misinstance\u001b[0m\u001b[0;34m(\u001b[0m\u001b[0mregion\u001b[0m\u001b[0;34m,\u001b[0m \u001b[0mSpectralRegion\u001b[0m\u001b[0;34m)\u001b[0m\u001b[0;34m:\u001b[0m\u001b[0;34m\u001b[0m\u001b[0;34m\u001b[0m\u001b[0m\n\u001b[0;32m---> 23\u001b[0;31m         \u001b[0;32mreturn\u001b[0m \u001b[0mfunc\u001b[0m\u001b[0;34m(\u001b[0m\u001b[0mspectrum\u001b[0m\u001b[0;34m,\u001b[0m \u001b[0mregions\u001b[0m\u001b[0;34m=\u001b[0m\u001b[0mregion\u001b[0m\u001b[0;34m,\u001b[0m \u001b[0;34m**\u001b[0m\u001b[0mkwargs\u001b[0m\u001b[0;34m)\u001b[0m\u001b[0;34m\u001b[0m\u001b[0;34m\u001b[0m\u001b[0m\n\u001b[0m\u001b[1;32m     24\u001b[0m \u001b[0;34m\u001b[0m\u001b[0m\n\u001b[1;32m     25\u001b[0m     \u001b[0;31m# List of regions\u001b[0m\u001b[0;34m\u001b[0m\u001b[0;34m\u001b[0m\u001b[0;34m\u001b[0m\u001b[0m\n",
            "\u001b[0;32m/usr/local/lib/python3.8/dist-packages/specutils/analysis/flux.py\u001b[0m in \u001b[0;36m_compute_line_flux\u001b[0;34m(spectrum, regions, mask_interpolation)\u001b[0m\n\u001b[1;32m    132\u001b[0m         \u001b[0mflux\u001b[0m \u001b[0;34m=\u001b[0m \u001b[0mcalc_spectrum\u001b[0m\u001b[0;34m.\u001b[0m\u001b[0mflux\u001b[0m\u001b[0;34m\u001b[0m\u001b[0;34m\u001b[0m\u001b[0m\n\u001b[1;32m    133\u001b[0m \u001b[0;34m\u001b[0m\u001b[0m\n\u001b[0;32m--> 134\u001b[0;31m     \u001b[0mdx\u001b[0m \u001b[0;34m=\u001b[0m \u001b[0mnp\u001b[0m\u001b[0;34m.\u001b[0m\u001b[0mabs\u001b[0m\u001b[0;34m(\u001b[0m\u001b[0mnp\u001b[0m\u001b[0;34m.\u001b[0m\u001b[0mdiff\u001b[0m\u001b[0;34m(\u001b[0m\u001b[0mcalc_spectrum\u001b[0m\u001b[0;34m.\u001b[0m\u001b[0mspectral_axis\u001b[0m\u001b[0;34m.\u001b[0m\u001b[0mbin_edges\u001b[0m\u001b[0;34m)\u001b[0m\u001b[0;34m)\u001b[0m\u001b[0;34m\u001b[0m\u001b[0;34m\u001b[0m\u001b[0m\n\u001b[0m\u001b[1;32m    135\u001b[0m     \u001b[0mline_flux\u001b[0m \u001b[0;34m=\u001b[0m \u001b[0mnp\u001b[0m\u001b[0;34m.\u001b[0m\u001b[0msum\u001b[0m\u001b[0;34m(\u001b[0m\u001b[0mflux\u001b[0m \u001b[0;34m*\u001b[0m \u001b[0mdx\u001b[0m\u001b[0;34m)\u001b[0m\u001b[0;34m\u001b[0m\u001b[0;34m\u001b[0m\u001b[0m\n\u001b[1;32m    136\u001b[0m \u001b[0;34m\u001b[0m\u001b[0m\n",
            "\u001b[0;32m/usr/local/lib/python3.8/dist-packages/astropy/utils/decorators.py\u001b[0m in \u001b[0;36m__get__\u001b[0;34m(self, obj, owner)\u001b[0m\n\u001b[1;32m    839\u001b[0m                     \u001b[0mval\u001b[0m \u001b[0;34m=\u001b[0m \u001b[0mobj_dict\u001b[0m\u001b[0;34m.\u001b[0m\u001b[0mget\u001b[0m\u001b[0;34m(\u001b[0m\u001b[0mself\u001b[0m\u001b[0;34m.\u001b[0m\u001b[0m_key\u001b[0m\u001b[0;34m,\u001b[0m \u001b[0m_NotFound\u001b[0m\u001b[0;34m)\u001b[0m\u001b[0;34m\u001b[0m\u001b[0;34m\u001b[0m\u001b[0m\n\u001b[1;32m    840\u001b[0m                     \u001b[0;32mif\u001b[0m \u001b[0mval\u001b[0m \u001b[0;32mis\u001b[0m \u001b[0m_NotFound\u001b[0m\u001b[0;34m:\u001b[0m\u001b[0;34m\u001b[0m\u001b[0;34m\u001b[0m\u001b[0m\n\u001b[0;32m--> 841\u001b[0;31m                         \u001b[0mval\u001b[0m \u001b[0;34m=\u001b[0m \u001b[0mself\u001b[0m\u001b[0;34m.\u001b[0m\u001b[0mfget\u001b[0m\u001b[0;34m(\u001b[0m\u001b[0mobj\u001b[0m\u001b[0;34m)\u001b[0m\u001b[0;34m\u001b[0m\u001b[0;34m\u001b[0m\u001b[0m\n\u001b[0m\u001b[1;32m    842\u001b[0m                         \u001b[0mobj_dict\u001b[0m\u001b[0;34m[\u001b[0m\u001b[0mself\u001b[0m\u001b[0;34m.\u001b[0m\u001b[0m_key\u001b[0m\u001b[0;34m]\u001b[0m \u001b[0;34m=\u001b[0m \u001b[0mval\u001b[0m\u001b[0;34m\u001b[0m\u001b[0;34m\u001b[0m\u001b[0m\n\u001b[1;32m    843\u001b[0m             \u001b[0;32mreturn\u001b[0m \u001b[0mval\u001b[0m\u001b[0;34m\u001b[0m\u001b[0;34m\u001b[0m\u001b[0m\n",
            "\u001b[0;32m/usr/local/lib/python3.8/dist-packages/specutils/spectra/spectral_axis.py\u001b[0m in \u001b[0;36mbin_edges\u001b[0;34m(self)\u001b[0m\n\u001b[1;32m     68\u001b[0m             \u001b[0;32mreturn\u001b[0m \u001b[0mself\u001b[0m\u001b[0;34m.\u001b[0m\u001b[0m_bin_edges\u001b[0m\u001b[0;34m\u001b[0m\u001b[0;34m\u001b[0m\u001b[0m\n\u001b[1;32m     69\u001b[0m         \u001b[0;32melse\u001b[0m\u001b[0;34m:\u001b[0m\u001b[0;34m\u001b[0m\u001b[0;34m\u001b[0m\u001b[0m\n\u001b[0;32m---> 70\u001b[0;31m             \u001b[0;32mreturn\u001b[0m \u001b[0mself\u001b[0m\u001b[0;34m.\u001b[0m\u001b[0m_edges_from_centers\u001b[0m\u001b[0;34m(\u001b[0m\u001b[0mself\u001b[0m\u001b[0;34m.\u001b[0m\u001b[0mvalue\u001b[0m\u001b[0;34m,\u001b[0m \u001b[0mself\u001b[0m\u001b[0;34m.\u001b[0m\u001b[0munit\u001b[0m\u001b[0;34m)\u001b[0m\u001b[0;34m\u001b[0m\u001b[0;34m\u001b[0m\u001b[0m\n\u001b[0m\u001b[1;32m     71\u001b[0m \u001b[0;34m\u001b[0m\u001b[0m\n\u001b[1;32m     72\u001b[0m     def with_observer_stationary_relative_to(self, frame,\n",
            "\u001b[0;32m/usr/local/lib/python3.8/dist-packages/specutils/spectra/spectral_axis.py\u001b[0m in \u001b[0;36m_edges_from_centers\u001b[0;34m(centers, unit)\u001b[0m\n\u001b[1;32m     47\u001b[0m         \u001b[0mto\u001b[0m \u001b[0mthe\u001b[0m \u001b[0mbeginning\u001b[0m \u001b[0;32mand\u001b[0m \u001b[0mend\u001b[0m \u001b[0mof\u001b[0m \u001b[0mthe\u001b[0m \u001b[0mspectral\u001b[0m \u001b[0maxis\u001b[0m\u001b[0;34m.\u001b[0m\u001b[0;34m\u001b[0m\u001b[0;34m\u001b[0m\u001b[0m\n\u001b[1;32m     48\u001b[0m         \"\"\"\n\u001b[0;32m---> 49\u001b[0;31m         \u001b[0ma\u001b[0m \u001b[0;34m=\u001b[0m \u001b[0mnp\u001b[0m\u001b[0;34m.\u001b[0m\u001b[0minsert\u001b[0m\u001b[0;34m(\u001b[0m\u001b[0mcenters\u001b[0m\u001b[0;34m,\u001b[0m \u001b[0;36m0\u001b[0m\u001b[0;34m,\u001b[0m \u001b[0;36m2\u001b[0m\u001b[0;34m*\u001b[0m\u001b[0mcenters\u001b[0m\u001b[0;34m[\u001b[0m\u001b[0;36m0\u001b[0m\u001b[0;34m]\u001b[0m \u001b[0;34m-\u001b[0m \u001b[0mcenters\u001b[0m\u001b[0;34m[\u001b[0m\u001b[0;36m1\u001b[0m\u001b[0;34m]\u001b[0m\u001b[0;34m)\u001b[0m\u001b[0;34m\u001b[0m\u001b[0;34m\u001b[0m\u001b[0m\n\u001b[0m\u001b[1;32m     50\u001b[0m         \u001b[0mb\u001b[0m \u001b[0;34m=\u001b[0m \u001b[0mnp\u001b[0m\u001b[0;34m.\u001b[0m\u001b[0mappend\u001b[0m\u001b[0;34m(\u001b[0m\u001b[0mcenters\u001b[0m\u001b[0;34m,\u001b[0m \u001b[0;36m2\u001b[0m\u001b[0;34m*\u001b[0m\u001b[0mcenters\u001b[0m\u001b[0;34m[\u001b[0m\u001b[0;34m-\u001b[0m\u001b[0;36m1\u001b[0m\u001b[0;34m]\u001b[0m \u001b[0;34m-\u001b[0m \u001b[0mcenters\u001b[0m\u001b[0;34m[\u001b[0m\u001b[0;34m-\u001b[0m\u001b[0;36m2\u001b[0m\u001b[0;34m]\u001b[0m\u001b[0;34m)\u001b[0m\u001b[0;34m\u001b[0m\u001b[0;34m\u001b[0m\u001b[0m\n\u001b[1;32m     51\u001b[0m         \u001b[0medges\u001b[0m \u001b[0;34m=\u001b[0m \u001b[0;34m(\u001b[0m\u001b[0ma\u001b[0m \u001b[0;34m+\u001b[0m \u001b[0mb\u001b[0m\u001b[0;34m)\u001b[0m \u001b[0;34m/\u001b[0m \u001b[0;36m2\u001b[0m\u001b[0;34m\u001b[0m\u001b[0;34m\u001b[0m\u001b[0m\n",
            "\u001b[0;31mIndexError\u001b[0m: index 1 is out of bounds for axis 0 with size 1"
          ]
        }
      ]
    },
    {
      "cell_type": "code",
      "source": [
        "type(noisy_gaussian)"
      ],
      "metadata": {
        "colab": {
          "base_uri": "https://localhost:8080/"
        },
        "id": "zeBlnQ1EgXmo",
        "outputId": "4caf0ae7-bb30-4d8d-f3fd-bc0afe61335c"
      },
      "execution_count": 33,
      "outputs": [
        {
          "output_type": "execute_result",
          "data": {
            "text/plain": [
              "specutils.spectra.spectrum1d.Spectrum1D"
            ]
          },
          "metadata": {},
          "execution_count": 33
        }
      ]
    },
    {
      "cell_type": "code",
      "source": [
        "type(spec)"
      ],
      "metadata": {
        "colab": {
          "base_uri": "https://localhost:8080/"
        },
        "id": "JJRinsexgkTE",
        "outputId": "a4e3ee07-a112-4b06-cf2c-f9b0b7ec2bc3"
      },
      "execution_count": 34,
      "outputs": [
        {
          "output_type": "execute_result",
          "data": {
            "text/plain": [
              "specutils.spectra.spectrum1d.Spectrum1D"
            ]
          },
          "metadata": {},
          "execution_count": 34
        }
      ]
    },
    {
      "cell_type": "code",
      "source": [
        "noisy_gaussian"
      ],
      "metadata": {
        "colab": {
          "base_uri": "https://localhost:8080/"
        },
        "id": "UOrvwbnhgm0E",
        "outputId": "f96970c1-5369-4277-bb62-3946cf737783"
      },
      "execution_count": 36,
      "outputs": [
        {
          "output_type": "execute_result",
          "data": {
            "text/plain": [
              "<Spectrum1D(flux=<Quantity [ 2.48357077e-02, -6.91321506e-03,  3.23844269e-02,\n",
              "            7.61514928e-02, -1.17076687e-02, -1.17068478e-02,\n",
              "            7.89606408e-02,  3.83717365e-02, -2.34737192e-02,\n",
              "            2.71280023e-02, -2.31708845e-02, -2.32864875e-02,\n",
              "            1.20981139e-02, -9.56640117e-02, -8.62458909e-02,\n",
              "           -2.81143753e-02, -5.06415543e-02,  1.57123692e-02,\n",
              "           -4.54011999e-02, -7.06151793e-02,  7.32824470e-02,\n",
              "           -1.12888024e-02,  3.37642880e-03, -7.12373821e-02,\n",
              "           -2.72190965e-02,  5.54618726e-03, -5.75495952e-02,\n",
              "            1.87850217e-02, -3.00317610e-02, -1.45844391e-02,\n",
              "           -3.00849765e-02,  9.26144121e-02, -6.74149908e-04,\n",
              "           -5.28845442e-02,  4.11286522e-02, -6.10402162e-02,\n",
              "            1.04459177e-02, -9.79797089e-02, -6.64040566e-02,\n",
              "            9.85028020e-03,  3.69332226e-02,  8.58192091e-03,\n",
              "           -5.76404704e-03, -1.50303069e-02, -7.38925357e-02,\n",
              "           -3.59471062e-02, -2.29715648e-02,  5.29366059e-02,\n",
              "            1.72878129e-02, -8.80106035e-02,  1.63905101e-02,\n",
              "           -1.90095999e-02, -3.35264650e-02,  3.10000040e-02,\n",
              "            5.20897533e-02,  4.72613133e-02, -4.10636118e-02,\n",
              "           -1.43106049e-02,  1.80313274e-02,  5.06441849e-02,\n",
              "           -2.15940466e-02, -6.29964080e-03, -5.15677701e-02,\n",
              "           -5.51177232e-02,  4.64769130e-02,  7.50776808e-02,\n",
              "            5.38695185e-03,  6.12501206e-02,  3.16717397e-02,\n",
              "           -1.56433931e-02,  3.82973585e-02,  1.01434043e-01,\n",
              "            2.78444577e-02,  1.13892222e-01, -8.82473043e-02,\n",
              "            9.21189091e-02,  6.50256720e-02,  5.69132843e-02,\n",
              "            8.93707421e-02,  2.51910010e-04,  1.05633589e-01,\n",
              "            1.53818353e-01,  2.31787970e-01,  1.56725611e-01,\n",
              "            1.70006677e-01,  2.16410151e-01,  3.21829847e-01,\n",
              "            3.30762649e-01,  3.29997166e-01,  4.28371449e-01,\n",
              "            4.57986836e-01,  5.56296223e-01,  5.31861505e-01,\n",
              "            6.14066313e-01,  6.78677382e-01,  6.97193382e-01,\n",
              "            8.61356471e-01,  9.39654842e-01,  1.01048538e+00,\n",
              "            1.08533839e+00,  1.11591031e+00,  1.25752270e+00,\n",
              "            1.35498412e+00,  1.42661938e+00,  1.55363232e+00,\n",
              "            1.67646305e+00,  1.84394272e+00,  1.84972103e+00,\n",
              "            1.94237068e+00,  2.01056308e+00,  1.99858476e+00,\n",
              "            2.16805536e+00,  2.24107773e+00,  2.42299598e+00,\n",
              "            2.34438187e+00,  2.41503108e+00,  2.43543390e+00,\n",
              "            2.40678247e+00,  2.54090783e+00,  2.53019899e+00,\n",
              "            2.53117065e+00,  2.43535907e+00,  2.53049749e+00,\n",
              "            2.36035494e+00,  2.42078933e+00,  2.45332808e+00,\n",
              "            2.23854074e+00,  2.19654466e+00,  2.15986112e+00,\n",
              "            2.05370633e+00,  1.92013124e+00,  1.91549057e+00,\n",
              "            1.76980664e+00,  1.75477289e+00,  1.59144594e+00,\n",
              "            1.62020797e+00,  1.40859676e+00,  1.33719854e+00,\n",
              "            1.30070111e+00,  1.10701495e+00,  1.09083627e+00,\n",
              "            1.05859175e+00,  8.29921075e-01,  8.40228083e-01,\n",
              "            7.68612408e-01,  7.23463100e-01,  5.55554995e-01,\n",
              "            4.88770269e-01,  5.22666691e-01,  4.57555505e-01,\n",
              "            4.05655969e-01,  3.65055545e-01,  2.72365029e-01,\n",
              "            2.80470246e-01,  2.49665608e-01,  1.68900606e-01,\n",
              "            2.70742343e-01,  1.76980983e-01,  7.23289588e-02,\n",
              "            1.45865939e-01,  4.77624875e-02,  1.21405395e-01,\n",
              "            1.27423259e-01,  1.75918238e-02,  9.74319383e-02,\n",
              "            6.18716409e-02,  7.54782491e-02,  1.23385125e-01,\n",
              "            1.13416423e-02, -1.82341172e-02, -2.85121318e-02,\n",
              "           -2.77417956e-02,  6.76900169e-03,  2.56735221e-02,\n",
              "            2.07943674e-02,  4.69590791e-02,  5.13807649e-03,\n",
              "            7.62593761e-02, -1.03841234e-02,  1.38264662e-01,\n",
              "            3.30632595e-02, -4.14592717e-02, -5.24499538e-02,\n",
              "            2.49770319e-02, -1.05104356e-02,  3.62126109e-02,\n",
              "            2.40567937e-02, -3.33839073e-03, -4.21080381e-02,\n",
              "           -7.55659925e-02, -2.21919953e-02,  4.29209737e-02,\n",
              "            1.07807058e-02, -6.22299672e-02,  8.70157525e-03,\n",
              "            1.92974915e-02, -4.41694514e-02,  7.70353276e-03,\n",
              "            2.92313147e-03, -5.71392229e-02] Jy>, spectral_axis=<SpectralAxis [11.        , 10.94974874, 10.89949749, 10.84924623, 10.79899497,\n",
              "   10.74874372, 10.69849246, 10.64824121, 10.59798995, 10.54773869,\n",
              "   10.49748744, 10.44723618, 10.39698492, 10.34673367, 10.29648241,\n",
              "   10.24623116, 10.1959799 , 10.14572864, 10.09547739, 10.04522613,\n",
              "    9.99497487,  9.94472362,  9.89447236,  9.84422111,  9.79396985,\n",
              "    9.74371859,  9.69346734,  9.64321608,  9.59296482,  9.54271357,\n",
              "    9.49246231,  9.44221106,  9.3919598 ,  9.34170854,  9.29145729,\n",
              "    9.24120603,  9.19095477,  9.14070352,  9.09045226,  9.04020101,\n",
              "    8.98994975,  8.93969849,  8.88944724,  8.83919598,  8.78894472,\n",
              "    8.73869347,  8.68844221,  8.63819095,  8.5879397 ,  8.53768844,\n",
              "    8.48743719,  8.43718593,  8.38693467,  8.33668342,  8.28643216,\n",
              "    8.2361809 ,  8.18592965,  8.13567839,  8.08542714,  8.03517588,\n",
              "    7.98492462,  7.93467337,  7.88442211,  7.83417085,  7.7839196 ,\n",
              "    7.73366834,  7.68341709,  7.63316583,  7.58291457,  7.53266332,\n",
              "    7.48241206,  7.4321608 ,  7.38190955,  7.33165829,  7.28140704,\n",
              "    7.23115578,  7.18090452,  7.13065327,  7.08040201,  7.03015075,\n",
              "    6.9798995 ,  6.92964824,  6.87939698,  6.82914573,  6.77889447,\n",
              "    6.72864322,  6.67839196,  6.6281407 ,  6.57788945,  6.52763819,\n",
              "    6.47738693,  6.42713568,  6.37688442,  6.32663317,  6.27638191,\n",
              "    6.22613065,  6.1758794 ,  6.12562814,  6.07537688,  6.02512563,\n",
              "    5.97487437,  5.92462312,  5.87437186,  5.8241206 ,  5.77386935,\n",
              "    5.72361809,  5.67336683,  5.62311558,  5.57286432,  5.52261307,\n",
              "    5.47236181,  5.42211055,  5.3718593 ,  5.32160804,  5.27135678,\n",
              "    5.22110553,  5.17085427,  5.12060302,  5.07035176,  5.0201005 ,\n",
              "    4.96984925,  4.91959799,  4.86934673,  4.81909548,  4.76884422,\n",
              "    4.71859296,  4.66834171,  4.61809045,  4.5678392 ,  4.51758794,\n",
              "    4.46733668,  4.41708543,  4.36683417,  4.31658291,  4.26633166,\n",
              "    4.2160804 ,  4.16582915,  4.11557789,  4.06532663,  4.01507538,\n",
              "    3.96482412,  3.91457286,  3.86432161,  3.81407035,  3.7638191 ,\n",
              "    3.71356784,  3.66331658,  3.61306533,  3.56281407,  3.51256281,\n",
              "    3.46231156,  3.4120603 ,  3.36180905,  3.31155779,  3.26130653,\n",
              "    3.21105528,  3.16080402,  3.11055276,  3.06030151,  3.01005025,\n",
              "    2.95979899,  2.90954774,  2.85929648,  2.80904523,  2.75879397,\n",
              "    2.70854271,  2.65829146,  2.6080402 ,  2.55778894,  2.50753769,\n",
              "    2.45728643,  2.40703518,  2.35678392,  2.30653266,  2.25628141,\n",
              "    2.20603015,  2.15577889,  2.10552764,  2.05527638,  2.00502513,\n",
              "    1.95477387,  1.90452261,  1.85427136,  1.8040201 ,  1.75376884,\n",
              "    1.70351759,  1.65326633,  1.60301508,  1.55276382,  1.50251256,\n",
              "    1.45226131,  1.40201005,  1.35175879,  1.30150754,  1.25125628,\n",
              "    1.20100503,  1.15075377,  1.10050251,  1.05025126,  1.        ] GHz>)>"
            ]
          },
          "metadata": {},
          "execution_count": 36
        }
      ]
    },
    {
      "cell_type": "code",
      "source": [
        "spec"
      ],
      "metadata": {
        "colab": {
          "base_uri": "https://localhost:8080/"
        },
        "id": "zayeozMVgvh6",
        "outputId": "3f626f72-ff8f-4a89-d93a-39ebb4a09724"
      },
      "execution_count": 45,
      "outputs": [
        {
          "output_type": "execute_result",
          "data": {
            "text/plain": [
              "<Spectrum1D(flux=<Quantity [-6.40669680e-17,  2.41048256e-17, -2.63085960e-17, ...,\n",
              "            4.27114064e-17,  2.16660709e-17, -3.56825590e-18] erg / (Angstrom cm2 s)>, spectral_axis=<SpectralAxis \n",
              "   (observer to target:\n",
              "      radial_velocity=0.0 km / s\n",
              "      redshift=0.0)\n",
              "  [ 3594.1809082 ,  3595.00976562,  3595.83666992, ..., 10384.84082031,\n",
              "   10387.23632812, 10389.63085938] Angstrom>)>"
            ]
          },
          "metadata": {},
          "execution_count": 45
        }
      ]
    },
    {
      "cell_type": "code",
      "source": [],
      "metadata": {
        "id": "UHkEX4Mzg0bG"
      },
      "execution_count": null,
      "outputs": []
    }
  ]
}